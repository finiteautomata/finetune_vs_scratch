{
 "cells": [
  {
   "cell_type": "code",
   "execution_count": 12,
   "metadata": {},
   "outputs": [
    {
     "name": "stdout",
     "output_type": "stream",
     "text": [
      "The autoreload extension is already loaded. To reload it, use:\n",
      "  %reload_ext autoreload\n"
     ]
    }
   ],
   "source": [
    "%load_ext autoreload\n",
    "%autoreload 2\n",
    "import importlib\n",
    "\n",
    "from finetune_vs_scratch.hate import load_datasets as load_hate\n",
    "from finetune_vs_scratch.sentiment import load_datasets as load_sentiment\n",
    "from finetune_vs_scratch.emotion import load_datasets as load_emotion\n",
    "from finetune_vs_scratch.irony import load_datasets as load_irony\n",
    "from finetune_vs_scratch.context_hate import load_datasets as load_context_hate\n",
    "from finetune_vs_scratch.model import load_tokenizer\n",
    "\n",
    "tasks = {\n",
    "    \"context_hate\": load_context_hate,\n",
    "    \"hate\": load_hate,\n",
    "    \"sentiment\": load_sentiment,\n",
    "    \"emotion\": load_emotion,\n",
    "    \"irony\": load_irony,\n",
    "}\n",
    "\n",
    "beto_uncased_tokenizer = load_tokenizer(\"dccuchile/bert-base-spanish-wwm-uncased\", 128)\n",
    "beto_cased_tokenizer = load_tokenizer(\"dccuchile/bert-base-spanish-wwm-cased\", 128)\n",
    "roberta_tokenizer = load_tokenizer(\"BSC-TeMU/roberta-base-bne\", 128)\n",
    "robertuito_uncased_tokenizer = load_tokenizer(\"finiteautomata/robertuito-base-uncased\", 128)\n",
    "robertuito_deacc_tokenizer = load_tokenizer(\"finiteautomata/robertuito-base-deacc\", 128)\n",
    "bertin_tokenizer = load_tokenizer(\"bertin-project/bertin-roberta-base-spanish\", 128)\n"
   ]
  },
  {
   "cell_type": "code",
   "execution_count": 13,
   "metadata": {},
   "outputs": [
    {
     "name": "stdout",
     "output_type": "stream",
     "text": [
      "Task: context_hate\n",
      "Task: hate\n",
      "Task: sentiment\n",
      "Task: emotion\n",
      "Task: irony\n"
     ]
    }
   ],
   "source": [
    "import pandas as pd\n",
    "\n",
    "df = pd.DataFrame()\n",
    "for task, load_datasets in tasks.items():\n",
    "    print(f\"Task: {task}\")\n",
    "    splits = load_datasets()\n",
    "    dataset = pd.concat([x.to_pandas() for x in splits])\n",
    "    dataset[\"task\"] = task.upper()\n",
    "    df = pd.concat([df, dataset.loc[:, [\"text\", \"task\"]]])"
   ]
  },
  {
   "cell_type": "code",
   "execution_count": 14,
   "metadata": {},
   "outputs": [],
   "source": [
    "# Les resto 2 por los tokens iniciales y finales\n",
    "\n",
    "args = {\n",
    "    \"truncation\": True,\n",
    "    \"max_length\": 128,\n",
    "}\n",
    "df[\"beto-uncased\"] = [sum(x) - 2 for x in beto_uncased_tokenizer(list(df[\"text\"].values), **args)[\"attention_mask\"]]\n",
    "df[\"beto-cased\"] = [sum(x) - 2 for x in beto_cased_tokenizer(list(df[\"text\"].values), **args)[\"attention_mask\"]]\n",
    "df[\"roberta\"] = [sum(x) - 2 for x in roberta_tokenizer(list(df[\"text\"].values), **args)[\"attention_mask\"]]\n",
    "df[\"bertin\"] = [sum(x) - 2 for x in bertin_tokenizer(list(df[\"text\"].values), **args)[\"attention_mask\"]]\n",
    "df[\"robertuito-uncased\"] = [sum(x) - 2 for x in robertuito_uncased_tokenizer(list(df[\"text\"].values), **args)[\"attention_mask\"]] \n",
    "df[\"robertuito-deacc\"] = [sum(x) - 2 for x in robertuito_deacc_tokenizer(list(df[\"text\"].values), **args)[\"attention_mask\"]]"
   ]
  },
  {
   "cell_type": "code",
   "execution_count": 15,
   "metadata": {},
   "outputs": [
    {
     "data": {
      "image/png": "[encoded data removed]",
      "text/plain": [
       "<Figure size 864x432 with 1 Axes>"
      ]
     },
     "metadata": {
      "needs_background": "light"
     },
     "output_type": "display_data"
    }
   ],
   "source": [
    "import seaborn as sns\n",
    "import matplotlib.pyplot as plt\n",
    "\n",
    "melted_df = df.melt(id_vars=[\"task\"], value_vars=[\"beto-uncased\", \"beto-cased\", \"roberta\", \"bertin\", \"robertuito-uncased\", \"robertuito-deacc\"], var_name=\"tokenizer\", value_name=\"length\")\n",
    "\n",
    "plt.figure(figsize=(12, 6))\n",
    "\n",
    "sns.barplot(x=\"task\", y=\"length\", hue=\"tokenizer\", data=melted_df, ci=95)\n",
    "\n",
    "plt.xlabel(\"Task\")\n",
    "plt.ylabel(\"Number of tokens per instance\")\n",
    "plt.legend(loc=\"lower left\")\n",
    "plt.savefig(\"img/length_tokens_full.pdf\", bbox_inches=\"tight\")"
   ]
  }
 ],
 "metadata": {
  "interpreter": {
   "hash": "d66fee0d28bd4ff973cb40954a12724f872a5e358c3d085cba51304a5945a0f3"
  },
  "kernelspec": {
   "display_name": "Python 3.7.12 64-bit ('finetune-vs-scratch-gHiQbun3-py3.7': poetry)",
   "name": "python3"
  },
  "language_info": {
   "codemirror_mode": {
    "name": "ipython",
    "version": 3
   },
   "file_extension": ".py",
   "mimetype": "text/x-python",
   "name": "python",
   "nbconvert_exporter": "python",
   "pygments_lexer": "ipython3",
   "version": "3.7.12"
  },
  "orig_nbformat": 4
 },
 "nbformat": 4,
 "nbformat_minor": 2
}
