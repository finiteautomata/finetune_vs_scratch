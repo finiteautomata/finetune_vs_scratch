{
 "cells": [
  {
   "cell_type": "code",
   "execution_count": 39,
   "source": [
    "import torch\n",
    "from transformers import BertForMaskedLM, BertTokenizerFast\n",
    "from finetune_vs_scratch.model import load_model_and_tokenizer\n",
    "model_name = 'dccuchile/bert-base-spanish-wwm-uncased'\n",
    "\n",
    "model, tokenizer = load_model_and_tokenizer(model_name, 1, \"cpu\")\n",
    "\n",
    "del model \n"
   ],
   "outputs": [
    {
     "output_type": "stream",
     "name": "stderr",
     "text": [
      "Some weights of the model checkpoint at dccuchile/bert-base-spanish-wwm-uncased were not used when initializing BertForSequenceClassification: ['cls.predictions.transform.dense.bias', 'cls.predictions.bias', 'cls.predictions.decoder.weight', 'cls.predictions.transform.LayerNorm.weight', 'cls.predictions.decoder.bias', 'cls.predictions.transform.LayerNorm.bias', 'cls.predictions.transform.dense.weight']\n",
      "- This IS expected if you are initializing BertForSequenceClassification from the checkpoint of a model trained on another task or with another architecture (e.g. initializing a BertForSequenceClassification model from a BertForPreTraining model).\n",
      "- This IS NOT expected if you are initializing BertForSequenceClassification from the checkpoint of a model that you expect to be exactly identical (initializing a BertForSequenceClassification model from a BertForSequenceClassification model).\n",
      "Some weights of BertForSequenceClassification were not initialized from the model checkpoint at dccuchile/bert-base-spanish-wwm-uncased and are newly initialized: ['classifier.weight', 'bert.pooler.dense.bias', 'bert.pooler.dense.weight', 'classifier.bias']\n",
      "You should probably TRAIN this model on a down-stream task to be able to use it for predictions and inference.\n"
     ]
    }
   ],
   "metadata": {}
  },
  {
   "cell_type": "code",
   "execution_count": 40,
   "source": [
    "from glob import glob\n",
    "\n",
    "num_files = 100\n",
    "tweet_files = glob(\"../data/spanish_tweets/*.txt\")[:2]"
   ],
   "outputs": [],
   "metadata": {}
  },
  {
   "cell_type": "code",
   "execution_count": 41,
   "source": [
    "%%time\n",
    "from datasets import load_dataset, Features, Value\n",
    "\n",
    "\n",
    "features = Features({\n",
    "    'text': Value('string'),\n",
    "})\n",
    "\n",
    "\"\"\"\n",
    "train_dataset, test_dataset = load_dataset(\n",
    "    \"text\", data_files={\"train\": train_files, \"test\": dev_files}, split=[\"train\", \"test\"], features=features\n",
    ")\n",
    "\"\"\"\n",
    "\n",
    "dataset = load_dataset(\n",
    "    \"text\", data_files=tweet_files, features=features\n",
    ")\n"
   ],
   "outputs": [
    {
     "output_type": "stream",
     "name": "stderr",
     "text": [
      "Using custom data configuration default-78cb808b1b1a8952\n",
      "Reusing dataset text (/home/jmperez/.cache/huggingface/datasets/text/default-78cb808b1b1a8952/0.0.0/e16f44aa1b321ece1f87b07977cc5d70be93d69b20486d6dacd62e12cf25c9a5)\n"
     ]
    },
    {
     "output_type": "stream",
     "name": "stdout",
     "text": [
      "CPU times: user 48 ms, sys: 8 ms, total: 56 ms\n",
      "Wall time: 1.43 s\n"
     ]
    }
   ],
   "metadata": {}
  },
  {
   "cell_type": "code",
   "execution_count": 42,
   "source": [
    "train_dataset = dataset[\"train\"]"
   ],
   "outputs": [],
   "metadata": {}
  },
  {
   "cell_type": "code",
   "execution_count": 43,
   "source": [
    "train_dataset"
   ],
   "outputs": [
    {
     "output_type": "execute_result",
     "data": {
      "text/plain": [
       "Dataset({\n",
       "    features: ['text'],\n",
       "    num_rows: 5297324\n",
       "})"
      ]
     },
     "metadata": {},
     "execution_count": 43
    }
   ],
   "metadata": {}
  },
  {
   "cell_type": "code",
   "execution_count": 44,
   "source": [
    "def tokenize(batch):\n",
    "    return tokenizer(batch['text'], padding='max_length', truncation=True)\n",
    "\n",
    "batch_size = 32\n",
    "\n",
    "#train_dataset.set_transform(tokenize)\n",
    "train_dataset = train_dataset.map(tokenize, batched=True, batch_size=batch_size)\n",
    "#test_dataset = test_dataset.map(tokenize, batched=True, batch_size=batch_size)\n"
   ],
   "outputs": [
    {
     "output_type": "display_data",
     "data": {
      "text/plain": [
       "  0%|          | 0/165542 [00:00<?, ?ba/s]"
      ],
      "application/vnd.jupyter.widget-view+json": {
       "version_major": 2,
       "version_minor": 0,
       "model_id": "96a78c1f8c4e46139b88dd41e83bbeb9"
      }
     },
     "metadata": {}
    }
   ],
   "metadata": {}
  },
  {
   "cell_type": "code",
   "execution_count": 45,
   "source": [
    "lens = []\n",
    "for i in tqdm(range(len(train_dataset))):\n",
    "    lens.append(sum(train_dataset[i][\"attention_mask\"]) - 2)"
   ],
   "outputs": [
    {
     "output_type": "display_data",
     "data": {
      "text/plain": [
       "  0%|          | 0/5297324 [00:00<?, ?it/s]"
      ],
      "application/vnd.jupyter.widget-view+json": {
       "version_major": 2,
       "version_minor": 0,
       "model_id": "1f9c11a09f01493ab0521aec04a709d9"
      }
     },
     "metadata": {}
    }
   ],
   "metadata": {}
  },
  {
   "cell_type": "code",
   "execution_count": 48,
   "source": [
    "import numpy as np\n",
    "\n",
    "lens = np.array(lens)"
   ],
   "outputs": [],
   "metadata": {}
  },
  {
   "cell_type": "code",
   "execution_count": 49,
   "source": [
    "import matplotlib.pyplot as plt\n",
    "import numpy as np\n",
    "\n",
    "plt.hist(lens, range=[0, 40], bins=40)"
   ],
   "outputs": [
    {
     "output_type": "execute_result",
     "data": {
      "text/plain": [
       "(array([1.45000e+02, 8.72270e+04, 1.18424e+05, 1.34795e+05, 1.70053e+05,\n",
       "        1.86960e+05, 2.06024e+05, 2.11339e+05, 2.05746e+05, 2.05715e+05,\n",
       "        1.97759e+05, 1.92563e+05, 1.82300e+05, 1.77291e+05, 1.65679e+05,\n",
       "        1.57021e+05, 1.51523e+05, 1.44747e+05, 1.32239e+05, 1.30689e+05,\n",
       "        1.19057e+05, 1.11476e+05, 1.05311e+05, 9.91010e+04, 9.25650e+04,\n",
       "        9.11660e+04, 8.22480e+04, 7.76120e+04, 7.59960e+04, 6.89320e+04,\n",
       "        6.48930e+04, 6.19600e+04, 5.94000e+04, 5.19770e+04, 4.86470e+04,\n",
       "        4.53600e+04, 4.22300e+04, 3.90980e+04, 3.77490e+04, 6.66770e+04]),\n",
       " array([ 0.,  1.,  2.,  3.,  4.,  5.,  6.,  7.,  8.,  9., 10., 11., 12.,\n",
       "        13., 14., 15., 16., 17., 18., 19., 20., 21., 22., 23., 24., 25.,\n",
       "        26., 27., 28., 29., 30., 31., 32., 33., 34., 35., 36., 37., 38.,\n",
       "        39., 40.]),\n",
       " <BarContainer object of 40 artists>)"
      ]
     },
     "metadata": {},
     "execution_count": 49
    },
    {
     "output_type": "display_data",
     "data": {
      "text/plain": [
       "<Figure size 432x288 with 1 Axes>"
      ],
      "image/png": "[encoded data removed]"
     },
     "metadata": {
      "needs_background": "light"
     }
    }
   ],
   "metadata": {}
  },
  {
   "cell_type": "markdown",
   "source": [
    "Parece algo razonable quedarme sólo con los que tienen "
   ],
   "metadata": {}
  },
  {
   "cell_type": "code",
   "execution_count": 79,
   "source": [
    "basuras = train_dataset.select(np.argwhere(lens <= 5).reshape(-1))[\"text\"]\n",
    "\n",
    "\n",
    "len(basuras) / len(train_dataset)"
   ],
   "outputs": [
    {
     "output_type": "execute_result",
     "data": {
      "text/plain": [
       "0.13168988719587474"
      ]
     },
     "metadata": {},
     "execution_count": 79
    }
   ],
   "metadata": {}
  },
  {
   "cell_type": "code",
   "execution_count": 78,
   "source": [
    "import random\n",
    "\n",
    "\n",
    "random.sample(basuras, 10)"
   ],
   "outputs": [
    {
     "output_type": "execute_result",
     "data": {
      "text/plain": [
       "['@usuario URL',\n",
       " 'URL',\n",
       " '@usuario Fugaaa',\n",
       " 'Q asco tengo',\n",
       " '@usuario Jjaja amo.',\n",
       " 'Linda nightt',\n",
       " 'URL URL',\n",
       " 'Poder dormir buena siesta es lava',\n",
       " 'Jjaja URL',\n",
       " 'URL']"
      ]
     },
     "metadata": {},
     "execution_count": 78
    }
   ],
   "metadata": {}
  },
  {
   "cell_type": "code",
   "execution_count": 74,
   "source": [
    "border = train_dataset.select(np.argwhere(lens == 6).reshape(-1))[\"text\"]\n",
    "\n",
    "random.sample(border, 10)"
   ],
   "outputs": [
    {
     "output_type": "execute_result",
     "data": {
      "text/plain": [
       "['PROD SUGAAA URL',\n",
       " '@usuario hijo tuyo parece jaja',\n",
       " 'I want to know',\n",
       " 'Que ganas de una mccc',\n",
       " 'Acaba de publicar una foto URL',\n",
       " '@usuario Vosotros seguid URL peña.',\n",
       " 'Me voy a dormir yf',\n",
       " 'Atajo atajo atajooo el penal',\n",
       " 'Que cosa linda los días así',\n",
       " '@usuario Jjaja hdp']"
      ]
     },
     "metadata": {},
     "execution_count": 74
    }
   ],
   "metadata": {}
  },
  {
   "cell_type": "code",
   "execution_count": 80,
   "source": [
    "random.sample(border, 10)"
   ],
   "outputs": [
    {
     "output_type": "execute_result",
     "data": {
      "text/plain": [
       "['Aca tambien porque me encantan URL',\n",
       " '@usuario c ve con madre!',\n",
       " 'Ni me enteré que es domingo',\n",
       " 'Puedes hacer lo que quieras conmigo',\n",
       " 'Vienen cosas nuevas y mejores.',\n",
       " 'Que triste me pone extrañar tanto',\n",
       " 'hashtag rap mexicano B| ♫',\n",
       " '@usuario is ugly.',\n",
       " '¡Me encantas! URL',\n",
       " '@usuario Más vale que si Florencia']"
      ]
     },
     "metadata": {},
     "execution_count": 80
    }
   ],
   "metadata": {}
  },
  {
   "cell_type": "markdown",
   "source": [
    "Me parece que quedarnos con los que tienen 6 o más tokens está bien"
   ],
   "metadata": {}
  }
 ],
 "metadata": {
  "orig_nbformat": 4,
  "language_info": {
   "name": "python"
  }
 },
 "nbformat": 4,
 "nbformat_minor": 2
}