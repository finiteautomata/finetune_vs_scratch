{
 "cells": [
  {
   "cell_type": "code",
   "execution_count": 1,
   "source": [
    "import torch\n",
    "from transformers import BertForMaskedLM, BertTokenizerFast\n",
    "from finetune_vs_scratch.model import load_model_and_tokenizer\n",
    "model_name = 'dccuchile/bert-base-spanish-wwm-uncased'\n",
    "\n",
    "model, tokenizer = load_model_and_tokenizer(model_name, 1, \"cpu\")\n",
    "\n",
    "del model \n"
   ],
   "outputs": [
    {
     "output_type": "display_data",
     "data": {
      "text/plain": [
       "Downloading:   0%|          | 0.00/440M [00:00<?, ?B/s]"
      ],
      "application/vnd.jupyter.widget-view+json": {
       "version_major": 2,
       "version_minor": 0,
       "model_id": "2306a3026cb04ab985f82ced35f39359"
      }
     },
     "metadata": {}
    },
    {
     "output_type": "stream",
     "name": "stderr",
     "text": [
      "Some weights of the model checkpoint at dccuchile/bert-base-spanish-wwm-uncased were not used when initializing BertForSequenceClassification: ['cls.predictions.transform.dense.bias', 'cls.predictions.bias', 'cls.predictions.transform.LayerNorm.weight', 'cls.predictions.transform.LayerNorm.bias', 'cls.predictions.decoder.bias', 'cls.predictions.transform.dense.weight', 'cls.predictions.decoder.weight']\n",
      "- This IS expected if you are initializing BertForSequenceClassification from the checkpoint of a model trained on another task or with another architecture (e.g. initializing a BertForSequenceClassification model from a BertForPreTraining model).\n",
      "- This IS NOT expected if you are initializing BertForSequenceClassification from the checkpoint of a model that you expect to be exactly identical (initializing a BertForSequenceClassification model from a BertForSequenceClassification model).\n",
      "Some weights of BertForSequenceClassification were not initialized from the model checkpoint at dccuchile/bert-base-spanish-wwm-uncased and are newly initialized: ['classifier.weight', 'bert.pooler.dense.weight', 'bert.pooler.dense.bias', 'classifier.bias']\n",
      "You should probably TRAIN this model on a down-stream task to be able to use it for predictions and inference.\n"
     ]
    }
   ],
   "metadata": {}
  },
  {
   "cell_type": "code",
   "execution_count": 3,
   "source": [
    "from glob import glob\n",
    "\n",
    "num_files = 100\n",
    "tweet_files = glob(\"../data/spanish_tweets/*.txt\")[:1]"
   ],
   "outputs": [],
   "metadata": {}
  },
  {
   "cell_type": "code",
   "execution_count": 4,
   "source": [
    "%%time\n",
    "from datasets import load_dataset, Features, Value\n",
    "\n",
    "\n",
    "features = Features({\n",
    "    'text': Value('string'),\n",
    "})\n",
    "\n",
    "\"\"\"\n",
    "train_dataset, test_dataset = load_dataset(\n",
    "    \"text\", data_files={\"train\": train_files, \"test\": dev_files}, split=[\"train\", \"test\"], features=features\n",
    ")\n",
    "\"\"\"\n",
    "\n",
    "dataset = load_dataset(\n",
    "    \"text\", data_files=tweet_files, features=features\n",
    ")\n",
    "\n",
    "train_dataset = dataset[\"train\"]\n"
   ],
   "outputs": [
    {
     "output_type": "stream",
     "name": "stderr",
     "text": [
      "Using custom data configuration default-8cc70ee41bb2c24e\n"
     ]
    },
    {
     "output_type": "stream",
     "name": "stdout",
     "text": [
      "Downloading and preparing dataset text/default (download: Unknown size, generated: Unknown size, post-processed: Unknown size, total: Unknown size) to /home/jmperez/.cache/huggingface/datasets/text/default-8cc70ee41bb2c24e/0.0.0/e16f44aa1b321ece1f87b07977cc5d70be93d69b20486d6dacd62e12cf25c9a5...\n"
     ]
    },
    {
     "output_type": "display_data",
     "data": {
      "text/plain": [
       "0 tables [00:00, ? tables/s]"
      ],
      "application/vnd.jupyter.widget-view+json": {
       "version_major": 2,
       "version_minor": 0,
       "model_id": "73a7c6cb962b40afa8bf98cab30c2355"
      }
     },
     "metadata": {}
    },
    {
     "output_type": "stream",
     "name": "stdout",
     "text": [
      "Dataset text downloaded and prepared to /home/jmperez/.cache/huggingface/datasets/text/default-8cc70ee41bb2c24e/0.0.0/e16f44aa1b321ece1f87b07977cc5d70be93d69b20486d6dacd62e12cf25c9a5. Subsequent calls will reuse this data.\n",
      "CPU times: user 4.3 s, sys: 1.88 s, total: 6.17 s\n",
      "Wall time: 7.5 s\n"
     ]
    }
   ],
   "metadata": {}
  },
  {
   "cell_type": "code",
   "execution_count": 5,
   "source": [
    "len(train_dataset)"
   ],
   "outputs": [
    {
     "output_type": "execute_result",
     "data": {
      "text/plain": [
       "3188797"
      ]
     },
     "metadata": {},
     "execution_count": 5
    }
   ],
   "metadata": {}
  },
  {
   "cell_type": "code",
   "execution_count": 19,
   "source": [
    "dataset = train_dataset.select(range(200_000))"
   ],
   "outputs": [],
   "metadata": {}
  },
  {
   "cell_type": "code",
   "execution_count": 20,
   "source": [
    "import re\n",
    "from finetune_vs_scratch.preprocessing import preprocess\n",
    "\n",
    "\n",
    "tw = preprocess(\"⛳⛳tugobierrr⛳\")\n",
    "\n",
    "\n",
    "re.sub(\"emoji.*?emoji\", \"emoji\", tw)"
   ],
   "outputs": [
    {
     "output_type": "execute_result",
     "data": {
      "text/plain": [
       "'emoji emoji tugobierrr emoji'"
      ]
     },
     "metadata": {},
     "execution_count": 20
    }
   ],
   "metadata": {}
  },
  {
   "cell_type": "code",
   "execution_count": 21,
   "source": [
    "\n",
    "tokenizer(\"emoji\")"
   ],
   "outputs": [
    {
     "output_type": "execute_result",
     "data": {
      "text/plain": [
       "{'input_ids': [4, 31005, 5], 'token_type_ids': [0, 0, 0], 'attention_mask': [1, 1, 1]}"
      ]
     },
     "metadata": {},
     "execution_count": 21
    }
   ],
   "metadata": {}
  },
  {
   "cell_type": "code",
   "execution_count": 22,
   "source": [
    "def tokenize(batch):\n",
    "    text = [re.sub(\"emoji.*?emoji\", \"emoji\", tw) for tw in batch['text']]\n",
    "    return tokenizer(text, padding='max_length', truncation=True)\n",
    "\n",
    "batch_size = 32\n",
    "\n",
    "#train_dataset.set_transform(tokenize)\n",
    "dataset = dataset.map(tokenize, batched=True, batch_size=batch_size)\n",
    "#test_dataset = test_dataset.map(tokenize, batched=True, batch_size=batch_size)\n"
   ],
   "outputs": [
    {
     "output_type": "display_data",
     "data": {
      "text/plain": [
       "  0%|          | 0/6250 [00:00<?, ?ba/s]"
      ],
      "application/vnd.jupyter.widget-view+json": {
       "version_major": 2,
       "version_minor": 0,
       "model_id": "fd896f053540411295760151f4d6d006"
      }
     },
     "metadata": {}
    }
   ],
   "metadata": {}
  },
  {
   "cell_type": "code",
   "execution_count": 25,
   "source": [
    "from tqdm.auto import tqdm\n",
    "lens = []\n",
    "for i in tqdm(range(len(dataset))):\n",
    "    lens.append(sum(dataset[i][\"attention_mask\"]) - 2)"
   ],
   "outputs": [
    {
     "output_type": "display_data",
     "data": {
      "text/plain": [
       "  0%|          | 0/200000 [00:00<?, ?it/s]"
      ],
      "application/vnd.jupyter.widget-view+json": {
       "version_major": 2,
       "version_minor": 0,
       "model_id": "ccfc63b8df7348e2ad2ee2fdf1e7f957"
      }
     },
     "metadata": {}
    }
   ],
   "metadata": {}
  },
  {
   "cell_type": "code",
   "execution_count": 26,
   "source": [
    "import numpy as np\n",
    "\n",
    "lens = np.array(lens)"
   ],
   "outputs": [],
   "metadata": {}
  },
  {
   "cell_type": "code",
   "execution_count": 27,
   "source": [
    "\n",
    "import matplotlib.pyplot as plt\n",
    "import numpy as np\n",
    "\n",
    "plt.hist(lens, range=[0, 40], bins=40)"
   ],
   "outputs": [
    {
     "output_type": "stream",
     "name": "stdout",
     "text": [
      "huggingface/tokenizers: The current process just got forked, after parallelism has already been used. Disabling parallelism to avoid deadlocks...\n",
      "To disable this warning, you can either:\n",
      "\t- Avoid using `tokenizers` before the fork if possible\n",
      "\t- Explicitly set the environment variable TOKENIZERS_PARALLELISM=(true | false)\n",
      "huggingface/tokenizers: The current process just got forked, after parallelism has already been used. Disabling parallelism to avoid deadlocks...\n",
      "To disable this warning, you can either:\n",
      "\t- Avoid using `tokenizers` before the fork if possible\n",
      "\t- Explicitly set the environment variable TOKENIZERS_PARALLELISM=(true | false)\n"
     ]
    },
    {
     "output_type": "execute_result",
     "data": {
      "text/plain": [
       "(array([1.000e+00, 2.058e+03, 5.298e+03, 5.563e+03, 6.798e+03, 7.562e+03,\n",
       "        8.160e+03, 8.513e+03, 8.198e+03, 7.993e+03, 7.580e+03, 7.450e+03,\n",
       "        7.056e+03, 6.413e+03, 6.329e+03, 5.881e+03, 5.497e+03, 5.647e+03,\n",
       "        4.664e+03, 4.617e+03, 4.072e+03, 3.946e+03, 3.633e+03, 3.390e+03,\n",
       "        3.149e+03, 2.994e+03, 2.936e+03, 2.868e+03, 2.601e+03, 2.404e+03,\n",
       "        2.380e+03, 2.171e+03, 2.208e+03, 2.021e+03, 1.782e+03, 1.818e+03,\n",
       "        1.729e+03, 1.611e+03, 1.559e+03, 2.885e+03]),\n",
       " array([ 0.,  1.,  2.,  3.,  4.,  5.,  6.,  7.,  8.,  9., 10., 11., 12.,\n",
       "        13., 14., 15., 16., 17., 18., 19., 20., 21., 22., 23., 24., 25.,\n",
       "        26., 27., 28., 29., 30., 31., 32., 33., 34., 35., 36., 37., 38.,\n",
       "        39., 40.]),\n",
       " <BarContainer object of 40 artists>)"
      ]
     },
     "metadata": {},
     "execution_count": 27
    },
    {
     "output_type": "display_data",
     "data": {
      "text/plain": [
       "<Figure size 432x288 with 1 Axes>"
      ],
      "image/png": "[encoded data removed]"
     },
     "metadata": {
      "needs_background": "light"
     }
    }
   ],
   "metadata": {}
  },
  {
   "cell_type": "code",
   "execution_count": 31,
   "source": [
    "\n",
    "basuras = dataset.select(np.argwhere(lens <= 5).reshape(-1))[\"text\"]\n",
    "\n",
    "\n",
    "len(basuras) / len(dataset)"
   ],
   "outputs": [
    {
     "output_type": "execute_result",
     "data": {
      "text/plain": [
       "0.1364"
      ]
     },
     "metadata": {},
     "execution_count": 31
    }
   ],
   "metadata": {}
  },
  {
   "cell_type": "code",
   "execution_count": 49,
   "source": [
    "import matplotlib.pyplot as plt\n",
    "import numpy as np\n",
    "\n",
    "plt.hist(lens, range=[0, 40], bins=40)"
   ],
   "outputs": [
    {
     "output_type": "execute_result",
     "data": {
      "text/plain": [
       "(array([1.45000e+02, 8.72270e+04, 1.18424e+05, 1.34795e+05, 1.70053e+05,\n",
       "        1.86960e+05, 2.06024e+05, 2.11339e+05, 2.05746e+05, 2.05715e+05,\n",
       "        1.97759e+05, 1.92563e+05, 1.82300e+05, 1.77291e+05, 1.65679e+05,\n",
       "        1.57021e+05, 1.51523e+05, 1.44747e+05, 1.32239e+05, 1.30689e+05,\n",
       "        1.19057e+05, 1.11476e+05, 1.05311e+05, 9.91010e+04, 9.25650e+04,\n",
       "        9.11660e+04, 8.22480e+04, 7.76120e+04, 7.59960e+04, 6.89320e+04,\n",
       "        6.48930e+04, 6.19600e+04, 5.94000e+04, 5.19770e+04, 4.86470e+04,\n",
       "        4.53600e+04, 4.22300e+04, 3.90980e+04, 3.77490e+04, 6.66770e+04]),\n",
       " array([ 0.,  1.,  2.,  3.,  4.,  5.,  6.,  7.,  8.,  9., 10., 11., 12.,\n",
       "        13., 14., 15., 16., 17., 18., 19., 20., 21., 22., 23., 24., 25.,\n",
       "        26., 27., 28., 29., 30., 31., 32., 33., 34., 35., 36., 37., 38.,\n",
       "        39., 40.]),\n",
       " <BarContainer object of 40 artists>)"
      ]
     },
     "metadata": {},
     "execution_count": 49
    },
    {
     "output_type": "display_data",
     "data": {
      "text/plain": [
       "<Figure size 432x288 with 1 Axes>"
      ],
      "image/png": "[encoded data removed]"
     },
     "metadata": {
      "needs_background": "light"
     }
    }
   ],
   "metadata": {}
  },
  {
   "cell_type": "markdown",
   "source": [
    "Parece algo razonable quedarme sólo con los que tienen "
   ],
   "metadata": {}
  },
  {
   "cell_type": "code",
   "execution_count": 79,
   "source": [
    "basuras = train_dataset.select(np.argwhere(lens <= 5).reshape(-1))[\"text\"]\n",
    "\n",
    "\n",
    "len(basuras) / len(train_dataset)"
   ],
   "outputs": [
    {
     "output_type": "execute_result",
     "data": {
      "text/plain": [
       "0.13168988719587474"
      ]
     },
     "metadata": {},
     "execution_count": 79
    }
   ],
   "metadata": {}
  },
  {
   "cell_type": "code",
   "execution_count": 78,
   "source": [
    "import random\n",
    "\n",
    "\n",
    "random.sample(basuras, 10)"
   ],
   "outputs": [
    {
     "output_type": "execute_result",
     "data": {
      "text/plain": [
       "['@usuario URL',\n",
       " 'URL',\n",
       " '@usuario Fugaaa',\n",
       " 'Q asco tengo',\n",
       " '@usuario Jjaja amo.',\n",
       " 'Linda nightt',\n",
       " 'URL URL',\n",
       " 'Poder dormir buena siesta es lava',\n",
       " 'Jjaja URL',\n",
       " 'URL']"
      ]
     },
     "metadata": {},
     "execution_count": 78
    }
   ],
   "metadata": {}
  },
  {
   "cell_type": "code",
   "execution_count": 74,
   "source": [
    "border = train_dataset.select(np.argwhere(lens == 6).reshape(-1))[\"text\"]\n",
    "\n",
    "random.sample(border, 10)"
   ],
   "outputs": [
    {
     "output_type": "execute_result",
     "data": {
      "text/plain": [
       "['PROD SUGAAA URL',\n",
       " '@usuario hijo tuyo parece jaja',\n",
       " 'I want to know',\n",
       " 'Que ganas de una mccc',\n",
       " 'Acaba de publicar una foto URL',\n",
       " '@usuario Vosotros seguid URL peña.',\n",
       " 'Me voy a dormir yf',\n",
       " 'Atajo atajo atajooo el penal',\n",
       " 'Que cosa linda los días así',\n",
       " '@usuario Jjaja hdp']"
      ]
     },
     "metadata": {},
     "execution_count": 74
    }
   ],
   "metadata": {}
  },
  {
   "cell_type": "code",
   "execution_count": 80,
   "source": [
    "random.sample(border, 10)"
   ],
   "outputs": [
    {
     "output_type": "execute_result",
     "data": {
      "text/plain": [
       "['Aca tambien porque me encantan URL',\n",
       " '@usuario c ve con madre!',\n",
       " 'Ni me enteré que es domingo',\n",
       " 'Puedes hacer lo que quieras conmigo',\n",
       " 'Vienen cosas nuevas y mejores.',\n",
       " 'Que triste me pone extrañar tanto',\n",
       " 'hashtag rap mexicano B| ♫',\n",
       " '@usuario is ugly.',\n",
       " '¡Me encantas! URL',\n",
       " '@usuario Más vale que si Florencia']"
      ]
     },
     "metadata": {},
     "execution_count": 80
    }
   ],
   "metadata": {}
  },
  {
   "cell_type": "markdown",
   "source": [
    "Me parece que quedarnos con los que tienen 6 o más tokens está bien"
   ],
   "metadata": {}
  }
 ],
 "metadata": {
  "orig_nbformat": 4,
  "language_info": {
   "name": "python"
  }
 },
 "nbformat": 4,
 "nbformat_minor": 2
}