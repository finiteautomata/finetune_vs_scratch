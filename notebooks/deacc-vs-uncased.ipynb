{
 "cells": [
  {
   "cell_type": "code",
   "execution_count": 1,
   "metadata": {},
   "outputs": [
    {
     "name": "stdout",
     "output_type": "stream",
     "text": [
      "bertin\n",
      "beto-cased-10000\n",
      "beto-cased-20000\n",
      "beto-cased-2500\n",
      "beto-cased-5000\n",
      "beto-cased\n",
      "beto-uncased-10000\n",
      "beto-uncased-20000\n",
      "beto-uncased-2500\n",
      "beto-uncased-5000\n",
      "beto-uncased\n",
      "roberta-bne\n",
      "robertuito-cased\n",
      "robertuito-deacc\n",
      "robertuito-uncased-200k\n",
      "robertuito-uncased\n"
     ]
    }
   ],
   "source": [
    "%load_ext autoreload\n",
    "%autoreload 2\n",
    "import os\n",
    "import glob\n",
    "import json\n",
    "\n",
    "outs = {}\n",
    "\n",
    "\n",
    "for filename in sorted([f for f in glob.glob(\"../output/*.json\") if \"test\" not in f]): \n",
    "    model_name = os.path.basename(filename).split(\".\")[0]\n",
    "    print(model_name)\n",
    "    with open(filename) as f:\n",
    "        outs[model_name] = json.load(f)"
   ]
  },
  {
   "cell_type": "code",
   "execution_count": 10,
   "metadata": {},
   "outputs": [],
   "source": [
    "import pandas as pd\n",
    "tasks = {\n",
    "    \"hate\",\n",
    "    \"sentiment\",\n",
    "    \"emotion\",\n",
    "    \"irony\",\n",
    "}\n",
    "\n",
    "data = []\n",
    "models = [\"robertuito-cased\", \"robertuito-uncased\", \"robertuito-deacc\"]\n",
    "\n",
    "for task in tasks:\n",
    "    for model in models:\n",
    "        for run in outs[model][task]:\n",
    "            data.append({\n",
    "                \"model\": model,\n",
    "                \"task\": task,\n",
    "                \"macro_f1\": run[\"eval_macro_f1\"],\n",
    "            })\n",
    "df = pd.DataFrame(data)"
   ]
  },
  {
   "cell_type": "code",
   "execution_count": 13,
   "metadata": {},
   "outputs": [
    {
     "data": {
      "text/plain": [
       "<AxesSubplot:xlabel='task', ylabel='macro_f1'>"
      ]
     },
     "execution_count": 13,
     "metadata": {},
     "output_type": "execute_result"
    },
    {
     "data": {
      "image/png": "[encoded data removed]",
      "text/plain": [
       "<Figure size 432x288 with 1 Axes>"
      ]
     },
     "metadata": {
      "needs_background": "light"
     },
     "output_type": "display_data"
    }
   ],
   "source": [
    "import seaborn as sns\n",
    "\n",
    "sns.barplot(x=\"task\", y=\"macro_f1\", hue=\"model\", data=df)"
   ]
  },
  {
   "cell_type": "code",
   "execution_count": 51,
   "metadata": {},
   "outputs": [
    {
     "name": "stdout",
     "output_type": "stream",
     "text": [
      "================================================================================\n",
      "HATE\n",
      "KruskalResult(statistic=6.882430798320244, pvalue=0.03202573760955022)\n",
      "Post-hoc\n",
      "                    robertuito-cased  robertuito-deacc  robertuito-uncased\n",
      "robertuito-cased            1.000000          0.070038            0.039868\n",
      "robertuito-deacc            0.070038          1.000000            0.626373\n",
      "robertuito-uncased          0.039868          0.626373            1.000000\n",
      "================================================================================\n",
      "SENTIMENT\n",
      "KruskalResult(statistic=9.903023107534697, pvalue=0.007072710063591997)\n",
      "Post-hoc\n",
      "                    robertuito-cased  robertuito-deacc  robertuito-uncased\n",
      "robertuito-cased            1.000000          0.148007            0.134551\n",
      "robertuito-deacc            0.148007          1.000000            0.005007\n",
      "robertuito-uncased          0.134551          0.005007            1.000000\n",
      "================================================================================\n",
      "IRONY\n",
      "KruskalResult(statistic=11.850968493722924, pvalue=0.002670514183925705)\n",
      "Post-hoc\n",
      "                    robertuito-cased  robertuito-deacc  robertuito-uncased\n",
      "robertuito-cased            1.000000          0.001773            0.126001\n",
      "robertuito-deacc            0.001773          1.000000            0.085048\n",
      "robertuito-uncased          0.126001          0.085048            1.000000\n",
      "================================================================================\n",
      "EMOTION\n",
      "KruskalResult(statistic=11.54449794428687, pvalue=0.003112749150182998)\n",
      "Post-hoc\n",
      "                    robertuito-cased  robertuito-deacc  robertuito-uncased\n",
      "robertuito-cased            1.000000          0.046626            0.002405\n",
      "robertuito-deacc            0.046626          1.000000            0.231606\n",
      "robertuito-uncased          0.002405          0.231606            1.000000\n"
     ]
    }
   ],
   "source": [
    "import scipy.stats\n",
    "import scikit_posthocs as sp\n",
    "\n",
    "\n",
    "for task in tasks:\n",
    "    print(\"=\"*80)\n",
    "    print(task.upper())\n",
    "    data = [ \n",
    "            df[(df[\"model\"] == model) & (df[\"task\"] == task)][\"macro_f1\"] for model in models\n",
    "    ]\n",
    "    kruskal = scipy.stats.kruskal(*data)\n",
    "    print(kruskal)\n",
    "    print(\"Post-hoc\")\n",
    "    print(sp.posthoc_dunn(df[df[\"task\"] == task], group_col=\"model\", val_col=\"macro_f1\", p_adjust=\"fdr_bh\"))\n",
    "    "
   ]
  },
  {
   "cell_type": "code",
   "execution_count": 46,
   "metadata": {},
   "outputs": [
    {
     "data": {
      "text/html": [
       "<div>\n",
       "<style scoped>\n",
       "    .dataframe tbody tr th:only-of-type {\n",
       "        vertical-align: middle;\n",
       "    }\n",
       "\n",
       "    .dataframe tbody tr th {\n",
       "        vertical-align: top;\n",
       "    }\n",
       "\n",
       "    .dataframe thead th {\n",
       "        text-align: right;\n",
       "    }\n",
       "</style>\n",
       "<table border=\"1\" class=\"dataframe\">\n",
       "  <thead>\n",
       "    <tr style=\"text-align: right;\">\n",
       "      <th></th>\n",
       "      <th>model</th>\n",
       "      <th>task</th>\n",
       "      <th>macro_f1</th>\n",
       "    </tr>\n",
       "  </thead>\n",
       "  <tbody>\n",
       "    <tr>\n",
       "      <th>0</th>\n",
       "      <td>robertuito-cased</td>\n",
       "      <td>hate</td>\n",
       "      <td>0.789273</td>\n",
       "    </tr>\n",
       "    <tr>\n",
       "      <th>1</th>\n",
       "      <td>robertuito-cased</td>\n",
       "      <td>hate</td>\n",
       "      <td>0.802306</td>\n",
       "    </tr>\n",
       "    <tr>\n",
       "      <th>2</th>\n",
       "      <td>robertuito-cased</td>\n",
       "      <td>hate</td>\n",
       "      <td>0.787825</td>\n",
       "    </tr>\n",
       "    <tr>\n",
       "      <th>3</th>\n",
       "      <td>robertuito-cased</td>\n",
       "      <td>hate</td>\n",
       "      <td>0.776156</td>\n",
       "    </tr>\n",
       "    <tr>\n",
       "      <th>4</th>\n",
       "      <td>robertuito-cased</td>\n",
       "      <td>hate</td>\n",
       "      <td>0.796889</td>\n",
       "    </tr>\n",
       "    <tr>\n",
       "      <th>...</th>\n",
       "      <td>...</td>\n",
       "      <td>...</td>\n",
       "      <td>...</td>\n",
       "    </tr>\n",
       "    <tr>\n",
       "      <th>175</th>\n",
       "      <td>robertuito-deacc</td>\n",
       "      <td>emotion</td>\n",
       "      <td>0.556116</td>\n",
       "    </tr>\n",
       "    <tr>\n",
       "      <th>176</th>\n",
       "      <td>robertuito-deacc</td>\n",
       "      <td>emotion</td>\n",
       "      <td>0.553408</td>\n",
       "    </tr>\n",
       "    <tr>\n",
       "      <th>177</th>\n",
       "      <td>robertuito-deacc</td>\n",
       "      <td>emotion</td>\n",
       "      <td>0.531016</td>\n",
       "    </tr>\n",
       "    <tr>\n",
       "      <th>178</th>\n",
       "      <td>robertuito-deacc</td>\n",
       "      <td>emotion</td>\n",
       "      <td>0.549580</td>\n",
       "    </tr>\n",
       "    <tr>\n",
       "      <th>179</th>\n",
       "      <td>robertuito-deacc</td>\n",
       "      <td>emotion</td>\n",
       "      <td>0.511387</td>\n",
       "    </tr>\n",
       "  </tbody>\n",
       "</table>\n",
       "<p>180 rows × 3 columns</p>\n",
       "</div>"
      ],
      "text/plain": [
       "                model     task  macro_f1\n",
       "0    robertuito-cased     hate  0.789273\n",
       "1    robertuito-cased     hate  0.802306\n",
       "2    robertuito-cased     hate  0.787825\n",
       "3    robertuito-cased     hate  0.776156\n",
       "4    robertuito-cased     hate  0.796889\n",
       "..                ...      ...       ...\n",
       "175  robertuito-deacc  emotion  0.556116\n",
       "176  robertuito-deacc  emotion  0.553408\n",
       "177  robertuito-deacc  emotion  0.531016\n",
       "178  robertuito-deacc  emotion  0.549580\n",
       "179  robertuito-deacc  emotion  0.511387\n",
       "\n",
       "[180 rows x 3 columns]"
      ]
     },
     "execution_count": 46,
     "metadata": {},
     "output_type": "execute_result"
    }
   ],
   "source": [
    "df"
   ]
  },
  {
   "cell_type": "code",
   "execution_count": 44,
   "metadata": {},
   "outputs": [
    {
     "name": "stdout",
     "output_type": "stream",
     "text": [
      "\u001b[0;31mSignature:\u001b[0m \u001b[0msp\u001b[0m\u001b[0;34m.\u001b[0m\u001b[0mposthoc_dunn\u001b[0m\u001b[0;34m(\u001b[0m\u001b[0ma\u001b[0m\u001b[0;34m,\u001b[0m \u001b[0mval_col\u001b[0m\u001b[0;34m=\u001b[0m\u001b[0;32mNone\u001b[0m\u001b[0;34m,\u001b[0m \u001b[0mgroup_col\u001b[0m\u001b[0;34m=\u001b[0m\u001b[0;32mNone\u001b[0m\u001b[0;34m,\u001b[0m \u001b[0mp_adjust\u001b[0m\u001b[0;34m=\u001b[0m\u001b[0;32mNone\u001b[0m\u001b[0;34m,\u001b[0m \u001b[0msort\u001b[0m\u001b[0;34m=\u001b[0m\u001b[0;32mTrue\u001b[0m\u001b[0;34m)\u001b[0m\u001b[0;34m\u001b[0m\u001b[0;34m\u001b[0m\u001b[0m\n",
      "\u001b[0;31mDocstring:\u001b[0m\n",
      "Post hoc pairwise test for multiple comparisons of mean rank sums\n",
      "(Dunn's test). May be used after Kruskal-Wallis one-way analysis of\n",
      "variance by ranks to do pairwise comparisons [1]_, [2]_.\n",
      "\n",
      "Parameters\n",
      "----------\n",
      "a : array_like or pandas DataFrame object\n",
      "    An array, any object exposing the array interface or a pandas DataFrame.\n",
      "    Array must be two-dimensional. Second dimension may vary,\n",
      "    i.e. groups may have different lengths.\n",
      "\n",
      "val_col : str, optional\n",
      "    Name of a DataFrame column that contains dependent variable values (test\n",
      "    or response variable). Values should have a non-nominal scale. Must be\n",
      "    specified if `a` is a pandas DataFrame object.\n",
      "\n",
      "group_col : str, optional\n",
      "    Name of a DataFrame column that contains independent variable values\n",
      "    (grouping or predictor variable). Values should have a nominal scale\n",
      "    (categorical). Must be specified if `a` is a pandas DataFrame object.\n",
      "\n",
      "p_adjust : str, optional\n",
      "    Method for adjusting p values. See `statsmodels.sandbox.stats.multicomp`\n",
      "    for details. Available methods are:\n",
      "    'bonferroni' : one-step correction\n",
      "    'sidak' : one-step correction\n",
      "    'holm-sidak' : step-down method using Sidak adjustments\n",
      "    'holm' : step-down method using Bonferroni adjustments\n",
      "    'simes-hochberg' : step-up method  (independent)\n",
      "    'hommel' : closed method based on Simes tests (non-negative)\n",
      "    'fdr_bh' : Benjamini/Hochberg  (non-negative)\n",
      "    'fdr_by' : Benjamini/Yekutieli (negative)\n",
      "    'fdr_tsbh' : two stage fdr correction (non-negative)\n",
      "    'fdr_tsbky' : two stage fdr correction (non-negative)\n",
      "\n",
      "sort : bool, optional\n",
      "    Specifies whether to sort DataFrame by group_col or not. Recommended\n",
      "    unless you sort your data manually.\n",
      "\n",
      "Returns\n",
      "-------\n",
      "result : pandas DataFrame\n",
      "    P values.\n",
      "\n",
      "Notes\n",
      "-----\n",
      "A tie correction will be employed according to Glantz (2012).\n",
      "\n",
      "References\n",
      "----------\n",
      ".. [1] O.J. Dunn (1964). Multiple comparisons using rank sums.\n",
      "    Technometrics, 6, 241-252.\n",
      ".. [2] S.A. Glantz (2012), Primer of Biostatistics. New York: McGraw Hill.\n",
      "\n",
      "Examples\n",
      "--------\n",
      "\n",
      ">>> x = [[1,2,3,5,1], [12,31,54, np.nan], [10,12,6,74,11]]\n",
      ">>> sp.posthoc_dunn(x, p_adjust = 'holm')\n",
      "\u001b[0;31mFile:\u001b[0m      ~/.cache/pypoetry/virtualenvs/finetune-vs-scratch-gHiQbun3-py3.7/lib/python3.7/site-packages/scikit_posthocs/_posthocs.py\n",
      "\u001b[0;31mType:\u001b[0m      function\n"
     ]
    }
   ],
   "source": [
    "sp.posthoc_dunn?"
   ]
  },
  {
   "cell_type": "code",
   "execution_count": null,
   "metadata": {},
   "outputs": [],
   "source": []
  }
 ],
 "metadata": {
  "interpreter": {
   "hash": "58bc13ec4dd135858b8220102d0ad3358f57eb64d131366ec25c4d4365eacf63"
  },
  "kernelspec": {
   "display_name": "Python 3.6.7 64-bit",
   "language": "python",
   "name": "python3"
  },
  "language_info": {
   "codemirror_mode": {
    "name": "ipython",
    "version": 3
   },
   "file_extension": ".py",
   "mimetype": "text/x-python",
   "name": "python",
   "nbconvert_exporter": "python",
   "pygments_lexer": "ipython3",
   "version": "3.7.12"
  },
  "orig_nbformat": 4
 },
 "nbformat": 4,
 "nbformat_minor": 2
}
