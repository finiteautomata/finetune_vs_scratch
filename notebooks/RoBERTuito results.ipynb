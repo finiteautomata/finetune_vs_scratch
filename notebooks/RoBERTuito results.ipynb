{
 "cells": [
  {
   "cell_type": "markdown",
   "metadata": {},
   "source": [
    "\n",
    "# Resultados\n",
    "\n",
    "|  Model          | Train loss     | Eval loss     | Eval ppl   |\n",
    "|-----------------|----------------|---------------|------------|\n",
    "| Cased           | 1.864          | 1.753         | 5.772      |            \n",
    "| Uncased         | 1.940          | 1.834         | 6.259      |            \n",
    "| Deacc           | 1.951          | 1.826         | 6.209      |            "
   ]
  },
  {
   "cell_type": "code",
   "execution_count": 1,
   "metadata": {},
   "outputs": [
    {
     "data": {
      "text/plain": [
       "[5.771892405660934, 6.2588721428134235, 6.209000916555538]"
      ]
     },
     "execution_count": 1,
     "metadata": {},
     "output_type": "execute_result"
    }
   ],
   "source": [
    "import math\n",
    "\n",
    "eval_losses = [\n",
    "    1.753,\n",
    "    1.834,\n",
    "    1.826,\n",
    "]\n",
    "\n",
    "eval_ppls = [\n",
    "    math.exp(l) for l in eval_losses\n",
    "]\n",
    "\n",
    "eval_ppls\n"
   ]
  },
  {
   "cell_type": "markdown",
   "metadata": {},
   "source": []
  }
 ],
 "metadata": {
  "interpreter": {
   "hash": "97a4262587560b66055971629739838c582ceb707640a6c203596e513d368257"
  },
  "kernelspec": {
   "display_name": "Python 3.8.12 64-bit ('.venv': poetry)",
   "name": "python3"
  },
  "language_info": {
   "codemirror_mode": {
    "name": "ipython",
    "version": 3
   },
   "file_extension": ".py",
   "mimetype": "text/x-python",
   "name": "python",
   "nbconvert_exporter": "python",
   "pygments_lexer": "ipython3",
   "version": "3.8.12"
  },
  "orig_nbformat": 4
 },
 "nbformat": 4,
 "nbformat_minor": 2
}
