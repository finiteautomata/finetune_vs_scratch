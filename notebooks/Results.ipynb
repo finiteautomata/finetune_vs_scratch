{
 "cells": [
  {
   "cell_type": "code",
   "execution_count": 1,
   "source": [
    "%load_ext autoreload\n",
    "%autoreload 2\n",
    "import glob\n",
    "import json\n",
    "\n",
    "outs = {}\n",
    "\n",
    "\n",
    "for filename in sorted([f for f in glob.glob(\"../output/*.json\") if \"test\" not in f]): \n",
    "    model_name = os.path.basename(filename).split(\".\")[0]\n",
    "    print(model_name)\n",
    "    with open(filename) as f:\n",
    "        outs[model_name] = json.load(f)\n"
   ],
   "outputs": [
    {
     "output_type": "stream",
     "name": "stdout",
     "text": [
      "bertin\n",
      "beto-ft-1000\n",
      "beto-ft-2000\n",
      "beto-uncased\n"
     ]
    }
   ],
   "metadata": {}
  },
  {
   "cell_type": "code",
   "execution_count": 3,
   "source": [
    "import pandas as pd\n",
    "import numpy as np\n",
    "\n",
    "resume = []\n",
    "\n",
    "task_metrics = {\n",
    "    \"context_hate\": [\"eval_mean_f1\", \"eval_hate_f1\"],\n",
    "    \"sentiment\": [\"eval_macro_f1\", \"eval_micro_f1\"],\n",
    "    \"emotion\": [\"eval_macro_f1\", \"eval_micro_f1\"],\n",
    "}\n",
    "\n",
    "for model_name, output in outs.items():\n",
    "    line = {\n",
    "        \"model\": model_name, \n",
    "    }\n",
    "\n",
    "    for task, metrics in task_metrics.items():\n",
    "        for metric in metrics:\n",
    "            arr = np.array([evaluation[metric] for evaluation in output[task]])\n",
    "            metric_name = metric.replace(\"eval_\", \"\")\n",
    "            line[task+\" \"+metric_name] = f\"{arr.mean():.4f} +- {arr.std():.3f}\"\n",
    "    resume.append(line)\n",
    "\n",
    "pd.DataFrame(resume)"
   ],
   "outputs": [
    {
     "output_type": "execute_result",
     "data": {
      "text/plain": [
       "          model context_hate mean_f1 context_hate hate_f1 sentiment macro_f1  \\\n",
       "0        bertin      0.5443 +- 0.005      0.6613 +- 0.009    0.6650 +- 0.002   \n",
       "1  beto-ft-1000      0.5857 +- 0.003      0.6861 +- 0.002    0.6721 +- 0.001   \n",
       "2  beto-ft-2000      0.5848 +- 0.005      0.6865 +- 0.003    0.6751 +- 0.005   \n",
       "3  beto-uncased      0.5906 +- 0.004      0.6856 +- 0.006    0.6517 +- 0.002   \n",
       "\n",
       "  sentiment micro_f1 emotion macro_f1 emotion micro_f1  \n",
       "0    0.6756 +- 0.003  0.5245 +- 0.026  0.6569 +- 0.019  \n",
       "1    0.6786 +- 0.004  0.5335 +- 0.012  0.6798 +- 0.020  \n",
       "2    0.6789 +- 0.007  0.5257 +- 0.010  0.6957 +- 0.006  \n",
       "3    0.6573 +- 0.003  0.5250 +- 0.014  0.6681 +- 0.016  "
      ],
      "text/html": [
       "<div>\n",
       "<style scoped>\n",
       "    .dataframe tbody tr th:only-of-type {\n",
       "        vertical-align: middle;\n",
       "    }\n",
       "\n",
       "    .dataframe tbody tr th {\n",
       "        vertical-align: top;\n",
       "    }\n",
       "\n",
       "    .dataframe thead th {\n",
       "        text-align: right;\n",
       "    }\n",
       "</style>\n",
       "<table border=\"1\" class=\"dataframe\">\n",
       "  <thead>\n",
       "    <tr style=\"text-align: right;\">\n",
       "      <th></th>\n",
       "      <th>model</th>\n",
       "      <th>context_hate mean_f1</th>\n",
       "      <th>context_hate hate_f1</th>\n",
       "      <th>sentiment macro_f1</th>\n",
       "      <th>sentiment micro_f1</th>\n",
       "      <th>emotion macro_f1</th>\n",
       "      <th>emotion micro_f1</th>\n",
       "    </tr>\n",
       "  </thead>\n",
       "  <tbody>\n",
       "    <tr>\n",
       "      <th>0</th>\n",
       "      <td>bertin</td>\n",
       "      <td>0.5443 +- 0.005</td>\n",
       "      <td>0.6613 +- 0.009</td>\n",
       "      <td>0.6650 +- 0.002</td>\n",
       "      <td>0.6756 +- 0.003</td>\n",
       "      <td>0.5245 +- 0.026</td>\n",
       "      <td>0.6569 +- 0.019</td>\n",
       "    </tr>\n",
       "    <tr>\n",
       "      <th>1</th>\n",
       "      <td>beto-ft-1000</td>\n",
       "      <td>0.5857 +- 0.003</td>\n",
       "      <td>0.6861 +- 0.002</td>\n",
       "      <td>0.6721 +- 0.001</td>\n",
       "      <td>0.6786 +- 0.004</td>\n",
       "      <td>0.5335 +- 0.012</td>\n",
       "      <td>0.6798 +- 0.020</td>\n",
       "    </tr>\n",
       "    <tr>\n",
       "      <th>2</th>\n",
       "      <td>beto-ft-2000</td>\n",
       "      <td>0.5848 +- 0.005</td>\n",
       "      <td>0.6865 +- 0.003</td>\n",
       "      <td>0.6751 +- 0.005</td>\n",
       "      <td>0.6789 +- 0.007</td>\n",
       "      <td>0.5257 +- 0.010</td>\n",
       "      <td>0.6957 +- 0.006</td>\n",
       "    </tr>\n",
       "    <tr>\n",
       "      <th>3</th>\n",
       "      <td>beto-uncased</td>\n",
       "      <td>0.5906 +- 0.004</td>\n",
       "      <td>0.6856 +- 0.006</td>\n",
       "      <td>0.6517 +- 0.002</td>\n",
       "      <td>0.6573 +- 0.003</td>\n",
       "      <td>0.5250 +- 0.014</td>\n",
       "      <td>0.6681 +- 0.016</td>\n",
       "    </tr>\n",
       "  </tbody>\n",
       "</table>\n",
       "</div>"
      ]
     },
     "metadata": {},
     "execution_count": 3
    }
   ],
   "metadata": {}
  },
  {
   "cell_type": "code",
   "execution_count": null,
   "source": [],
   "outputs": [],
   "metadata": {}
  }
 ],
 "metadata": {
  "orig_nbformat": 4,
  "language_info": {
   "name": "python"
  }
 },
 "nbformat": 4,
 "nbformat_minor": 2
}